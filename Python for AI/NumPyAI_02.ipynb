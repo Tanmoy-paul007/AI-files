{
 "cells": [
  {
   "cell_type": "code",
   "execution_count": 6,
   "id": "631e70c0",
   "metadata": {},
   "outputs": [
    {
     "name": "stdout",
     "output_type": "stream",
     "text": [
      "Original: [10 20 30 40 50]\n",
      "Transformed: [ 21  41  61  81 101]\n",
      "Normalized: [18.84332432 38.84332432 58.84332432 78.84332432 98.84332432]\n"
     ]
    }
   ],
   "source": [
    "import numpy as np \n",
    "\n",
    "data = np.array([10, 20, 30, 40, 50])\n",
    "\n",
    "transfer = 2 * data + 1\n",
    "\n",
    "normalijation = (transfer - np.mean(transfer) / np.std(transfer))\n",
    "\n",
    "print(\"Original:\", data )\n",
    "print(\"Transformed:\", transfer)\n",
    "print(\"Normalized:\", normalijation)"
   ]
  }
 ],
 "metadata": {
  "kernelspec": {
   "display_name": "Python 3",
   "language": "python",
   "name": "python3"
  },
  "language_info": {
   "codemirror_mode": {
    "name": "ipython",
    "version": 3
   },
   "file_extension": ".py",
   "mimetype": "text/x-python",
   "name": "python",
   "nbconvert_exporter": "python",
   "pygments_lexer": "ipython3",
   "version": "3.13.5"
  }
 },
 "nbformat": 4,
 "nbformat_minor": 5
}
