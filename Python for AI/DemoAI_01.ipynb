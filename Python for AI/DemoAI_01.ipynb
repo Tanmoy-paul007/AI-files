{
 "cells": [
  {
   "cell_type": "code",
   "execution_count": 1,
   "id": "c3668262",
   "metadata": {},
   "outputs": [
    {
     "data": {
      "text/plain": [
       "{'Avg ': 30.0, 'Max ': 50, 'Min ': 10}"
      ]
     },
     "execution_count": 1,
     "metadata": {},
     "output_type": "execute_result"
    }
   ],
   "source": [
    "data = [10, 20, 30, 40, 50]\n",
    "\n",
    "def result(data):\n",
    "     average = sum(data) / len(data)  \n",
    "     maximum = max(data)                 \n",
    "     minimum = min(data)   \n",
    "     return {\"Avg \": average, \"Max \": maximum, \"Min \": minimum}\n",
    "\n",
    "result(data)"
   ]
  }
 ],
 "metadata": {
  "kernelspec": {
   "display_name": "Python 3",
   "language": "python",
   "name": "python3"
  },
  "language_info": {
   "codemirror_mode": {
    "name": "ipython",
    "version": 3
   },
   "file_extension": ".py",
   "mimetype": "text/x-python",
   "name": "python",
   "nbconvert_exporter": "python",
   "pygments_lexer": "ipython3",
   "version": "3.13.5"
  }
 },
 "nbformat": 4,
 "nbformat_minor": 5
}
