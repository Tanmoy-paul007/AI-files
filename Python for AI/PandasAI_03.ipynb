{
 "cells": [
  {
   "cell_type": "code",
   "execution_count": 1,
   "id": "42818e74",
   "metadata": {},
   "outputs": [],
   "source": [
    "import pandas as pd \n",
    "from sklearn.preprocessing import StandardScaler"
   ]
  },
  {
   "cell_type": "code",
   "execution_count": null,
   "id": "e7a4c4b0",
   "metadata": {},
   "outputs": [],
   "source": [
    "# ধরি 'messy_data.csv' একটি নোংরা ডাটাসেট\n",
    "df = pd.read_csv('messy_data.csv')\n",
    "\n",
    "# মিসিং ভ্যালু চেক\n",
    "MissValues = df.isnull().sum() \n",
    "print(\"Missingvalues is :- \" + MissValues)\n",
    "\n",
    "# সংখ্যাগত কলামের মিসিং ভ্যালু গড় দিয়ে ফিল\n",
    "df.fillna(df.mean(), inplace=True)\n",
    "\n",
    "# ক্যাটেগরিক্যাল ডাটা এনকোড\n",
    "df = pd.get_dummies(df, colums=['education'])\n",
    "\n",
    "# ফিচার স্কেলিং\n",
    "scaler = StandardScaler()\n",
    "df[['age', 'income']] = scaler.fit_transform(df[['age', 'income']])\n",
    "\n",
    "Cleaned_Data = df.head()\n",
    "Cleaned_Data"
   ]
  }
 ],
 "metadata": {
  "kernelspec": {
   "display_name": "Python 3",
   "language": "python",
   "name": "python3"
  },
  "language_info": {
   "codemirror_mode": {
    "name": "ipython",
    "version": 3
   },
   "file_extension": ".py",
   "mimetype": "text/x-python",
   "name": "python",
   "nbconvert_exporter": "python",
   "pygments_lexer": "ipython3",
   "version": "3.13.5"
  }
 },
 "nbformat": 4,
 "nbformat_minor": 5
}
